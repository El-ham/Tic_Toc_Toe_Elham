{
 "cells": [
  {
   "cell_type": "code",
   "execution_count": 19,
   "id": "129d0200-3ceb-43ca-81f4-37521f572b09",
   "metadata": {
    "collapsed": true,
    "jupyter": {
     "outputs_hidden": true
    },
    "tags": []
   },
   "outputs": [
    {
     "name": "stdin",
     "output_type": "stream",
     "text": [
      "please enter the size of the game? It will be the number of rows! 4\n"
     ]
    },
    {
     "name": "stdout",
     "output_type": "stream",
     "text": [
      "[[0, 0, 0, 0], [0, 0, 0, 0], [0, 0, 0, 0], [0, 0, 0, 0]]\n"
     ]
    },
    {
     "name": "stdin",
     "output_type": "stream",
     "text": [
      "player_1 you are playing with letter \"O\"!, please confirm that by entering the letter \"O\" o\n"
     ]
    },
    {
     "name": "stdout",
     "output_type": "stream",
     "text": [
      "Perfect\n"
     ]
    },
    {
     "name": "stdin",
     "output_type": "stream",
     "text": [
      "player_2 you are playing with letter \"X\"!, please confirm that by entering the letter \"X\" x\n"
     ]
    },
    {
     "name": "stdout",
     "output_type": "stream",
     "text": [
      "Perfect\n",
      "player_2 please enter a number between 1 and 4 as a number of row\n"
     ]
    },
    {
     "name": "stdin",
     "output_type": "stream",
     "text": [
      "please enter the number 2\n"
     ]
    },
    {
     "name": "stdout",
     "output_type": "stream",
     "text": [
      "Thank you!\n"
     ]
    },
    {
     "name": "stdin",
     "output_type": "stream",
     "text": [
      "Now, please enter another number in the same range as a number of column 4\n"
     ]
    },
    {
     "name": "stdout",
     "output_type": "stream",
     "text": [
      "[[0, 0, 0, 0], [0, 0, 0, 'X'], [0, 0, 0, 0], [0, 0, 0, 0]]\n",
      "f1: 1 f2: 1 f3: 1 f4: 1\n",
      "f1: 1 f2: 1 f3: 1 f4: 1\n",
      "f1: 1 f2: 1 f3: 1 f4: 1\n",
      "f1: 1 f2: 1 f3: 1 f4: 1\n",
      "f1: 1 f2: 1 f3: 1 f4: 1\n",
      "f1: 1 f2: 1 f3: 1 f4: 1\n",
      "f1: 1 f2: 1 f3: 1 f4: 1\n",
      "f1: 1 f2: 1 f3: 1 f4: 1\n",
      "f1: 1 f2: 1 f3: 1 f4: 1\n",
      "f1: 1 f2: 1 f3: 1 f4: 1\n",
      "f1: 1 f2: 1 f3: 1 f4: 1\n",
      "f1: 1 f2: 1 f3: 1 f4: 1\n",
      "f1: 1 f2: 1 f3: 1 f4: 1\n",
      "f1: 1 f2: 1 f3: 1 f4: 1\n",
      "f1: 1 f2: 1 f3: 1 f4: 1\n",
      "f1: 1 f2: 1 f3: 1 f4: 1\n",
      "player_1 please enter a number between 1 and 4 as a number of row\n"
     ]
    },
    {
     "name": "stdin",
     "output_type": "stream",
     "text": [
      "please enter the number 1\n"
     ]
    },
    {
     "name": "stdout",
     "output_type": "stream",
     "text": [
      "Thank you!\n"
     ]
    },
    {
     "name": "stdin",
     "output_type": "stream",
     "text": [
      "Now, please enter another number in the same range as a number of column 1\n"
     ]
    },
    {
     "name": "stdout",
     "output_type": "stream",
     "text": [
      "[['O', 0, 0, 0], [0, 0, 0, 'X'], [0, 0, 0, 0], [0, 0, 0, 0]]\n",
      "f1: 0 f2: 0 f3: 0 f4: 1\n",
      "f1: 1 f2: 1 f3: 0 f4: 1\n",
      "f1: 1 f2: 1 f3: 0 f4: 1\n",
      "f1: 1 f2: 1 f3: 0 f4: 1\n",
      "f1: 1 f2: 1 f3: 0 f4: 1\n",
      "f1: 1 f2: 1 f3: 1 f4: 1\n",
      "f1: 1 f2: 1 f3: 1 f4: 1\n",
      "f1: 1 f2: 1 f3: 1 f4: 1\n",
      "f1: 1 f2: 1 f3: 0 f4: 1\n",
      "f1: 1 f2: 1 f3: 0 f4: 1\n",
      "f1: 1 f2: 1 f3: 1 f4: 1\n",
      "f1: 1 f2: 1 f3: 1 f4: 1\n",
      "f1: 1 f2: 1 f3: 0 f4: 1\n",
      "f1: 1 f2: 1 f3: 0 f4: 1\n",
      "f1: 1 f2: 1 f3: 0 f4: 1\n",
      "f1: 1 f2: 1 f3: 1 f4: 1\n",
      "player_2 please enter a number between 1 and 4 as a number of row\n"
     ]
    },
    {
     "name": "stdin",
     "output_type": "stream",
     "text": [
      "please enter the number 4\n"
     ]
    },
    {
     "name": "stdout",
     "output_type": "stream",
     "text": [
      "Thank you!\n"
     ]
    },
    {
     "name": "stdin",
     "output_type": "stream",
     "text": [
      "Now, please enter another number in the same range as a number of column 4\n"
     ]
    },
    {
     "name": "stdout",
     "output_type": "stream",
     "text": [
      "[['O', 0, 0, 0], [0, 0, 0, 'X'], [0, 0, 0, 0], [0, 0, 0, 'X']]\n",
      "f1: 0 f2: 0 f3: 0 f4: 1\n",
      "f1: 1 f2: 1 f3: 0 f4: 1\n",
      "f1: 1 f2: 1 f3: 0 f4: 1\n",
      "f1: 1 f2: 1 f3: 0 f4: 1\n",
      "f1: 1 f2: 1 f3: 0 f4: 1\n",
      "f1: 1 f2: 1 f3: 1 f4: 1\n",
      "f1: 1 f2: 1 f3: 1 f4: 1\n",
      "f1: 1 f2: 1 f3: 1 f4: 1\n",
      "f1: 1 f2: 1 f3: 0 f4: 1\n",
      "f1: 1 f2: 1 f3: 0 f4: 1\n",
      "f1: 1 f2: 1 f3: 1 f4: 1\n",
      "f1: 1 f2: 1 f3: 1 f4: 1\n",
      "f1: 1 f2: 1 f3: 0 f4: 1\n",
      "f1: 1 f2: 1 f3: 0 f4: 1\n",
      "f1: 1 f2: 1 f3: 0 f4: 1\n",
      "f1: 1 f2: 1 f3: 1 f4: 1\n",
      "player_1 please enter a number between 1 and 4 as a number of row\n"
     ]
    },
    {
     "name": "stdin",
     "output_type": "stream",
     "text": [
      "please enter the number 2\n"
     ]
    },
    {
     "name": "stdout",
     "output_type": "stream",
     "text": [
      "Thank you!\n"
     ]
    },
    {
     "name": "stdin",
     "output_type": "stream",
     "text": [
      "Now, please enter another number in the same range as a number of column 2\n"
     ]
    },
    {
     "name": "stdout",
     "output_type": "stream",
     "text": [
      "[['O', 0, 0, 0], [0, 'O', 0, 'X'], [0, 0, 0, 0], [0, 0, 0, 'X']]\n",
      "f1: 0 f2: 0 f3: 0 f4: 1\n",
      "f1: 1 f2: 1 f3: 0 f4: 1\n",
      "f1: 1 f2: 1 f3: 0 f4: 1\n",
      "f1: 1 f2: 1 f3: 0 f4: 1\n",
      "f1: 1 f2: 1 f3: 0 f4: 1\n",
      "f1: 1 f2: 1 f3: 0 f4: 1\n",
      "f1: 1 f2: 1 f3: 0 f4: 1\n",
      "f1: 1 f2: 1 f3: 0 f4: 1\n",
      "f1: 1 f2: 1 f3: 0 f4: 1\n",
      "f1: 1 f2: 1 f3: 0 f4: 1\n",
      "f1: 1 f2: 1 f3: 1 f4: 1\n",
      "f1: 1 f2: 1 f3: 1 f4: 1\n",
      "f1: 1 f2: 1 f3: 0 f4: 1\n",
      "f1: 1 f2: 1 f3: 0 f4: 1\n",
      "f1: 1 f2: 1 f3: 0 f4: 1\n",
      "f1: 1 f2: 1 f3: 1 f4: 1\n",
      "player_2 please enter a number between 1 and 4 as a number of row\n"
     ]
    },
    {
     "name": "stdin",
     "output_type": "stream",
     "text": [
      "please enter the number 3\n"
     ]
    },
    {
     "name": "stdout",
     "output_type": "stream",
     "text": [
      "Thank you!\n"
     ]
    },
    {
     "name": "stdin",
     "output_type": "stream",
     "text": [
      "Now, please enter another number in the same range as a number of column 3\n"
     ]
    },
    {
     "name": "stdout",
     "output_type": "stream",
     "text": [
      "[['O', 0, 0, 0], [0, 'O', 0, 'X'], [0, 0, 'X', 0], [0, 0, 0, 'X']]\n",
      "f1: 0 f2: 0 f3: 0 f4: 1\n",
      "f1: 1 f2: 1 f3: 0 f4: 1\n",
      "f1: 1 f2: 1 f3: 0 f4: 1\n",
      "f1: 1 f2: 1 f3: 0 f4: 1\n",
      "f1: 1 f2: 1 f3: 0 f4: 1\n",
      "f1: 1 f2: 1 f3: 0 f4: 1\n",
      "f1: 1 f2: 1 f3: 0 f4: 1\n",
      "f1: 1 f2: 1 f3: 0 f4: 1\n",
      "f1: 1 f2: 1 f3: 0 f4: 1\n",
      "f1: 1 f2: 1 f3: 0 f4: 1\n",
      "f1: 1 f2: 1 f3: 1 f4: 1\n",
      "f1: 1 f2: 1 f3: 1 f4: 1\n",
      "f1: 1 f2: 1 f3: 0 f4: 1\n",
      "f1: 1 f2: 1 f3: 0 f4: 1\n",
      "f1: 1 f2: 1 f3: 0 f4: 1\n",
      "f1: 1 f2: 1 f3: 1 f4: 1\n",
      "player_1 please enter a number between 1 and 4 as a number of row\n"
     ]
    },
    {
     "name": "stdin",
     "output_type": "stream",
     "text": [
      "please enter the number 2\n"
     ]
    },
    {
     "name": "stdout",
     "output_type": "stream",
     "text": [
      "Thank you!\n"
     ]
    },
    {
     "name": "stdin",
     "output_type": "stream",
     "text": [
      "Now, please enter another number in the same range as a number of column 1\n"
     ]
    },
    {
     "name": "stdout",
     "output_type": "stream",
     "text": [
      "[['O', 0, 0, 0], ['O', 'O', 0, 'X'], [0, 0, 'X', 0], [0, 0, 0, 'X']]\n",
      "f1: 0 f2: 0 f3: 0 f4: 1\n",
      "f1: 1 f2: 0 f3: 0 f4: 1\n",
      "f1: 1 f2: 1 f3: 0 f4: 1\n",
      "f1: 1 f2: 1 f3: 0 f4: 1\n",
      "f1: 0 f2: 1 f3: 0 f4: 1\n",
      "f1: 0 f2: 1 f3: 0 f4: 1\n",
      "f1: 1 f2: 1 f3: 0 f4: 1\n",
      "f1: 1 f2: 1 f3: 0 f4: 1\n",
      "f1: 1 f2: 1 f3: 0 f4: 1\n",
      "f1: 1 f2: 1 f3: 0 f4: 1\n",
      "f1: 1 f2: 1 f3: 1 f4: 1\n",
      "f1: 1 f2: 1 f3: 1 f4: 1\n",
      "f1: 1 f2: 1 f3: 0 f4: 1\n",
      "f1: 1 f2: 1 f3: 0 f4: 1\n",
      "f1: 1 f2: 1 f3: 0 f4: 1\n",
      "f1: 1 f2: 1 f3: 1 f4: 1\n",
      "player_2 please enter a number between 1 and 4 as a number of row\n"
     ]
    },
    {
     "name": "stdin",
     "output_type": "stream",
     "text": [
      "please enter the number 1\n"
     ]
    },
    {
     "name": "stdout",
     "output_type": "stream",
     "text": [
      "Thank you!\n"
     ]
    },
    {
     "name": "stdin",
     "output_type": "stream",
     "text": [
      "Now, please enter another number in the same range as a number of column 4\n"
     ]
    },
    {
     "name": "stdout",
     "output_type": "stream",
     "text": [
      "[['O', 0, 0, 'X'], ['O', 'O', 0, 'X'], [0, 0, 'X', 0], [0, 0, 0, 'X']]\n",
      "f1: 0 f2: 0 f3: 0 f4: 0\n",
      "f1: 1 f2: 0 f3: 0 f4: 0\n",
      "f1: 1 f2: 1 f3: 0 f4: 0\n",
      "f1: 1 f2: 1 f3: 0 f4: 0\n",
      "f1: 0 f2: 1 f3: 0 f4: 0\n",
      "f1: 0 f2: 1 f3: 0 f4: 0\n",
      "f1: 1 f2: 1 f3: 0 f4: 1\n",
      "f1: 1 f2: 1 f3: 0 f4: 1\n",
      "f1: 1 f2: 1 f3: 0 f4: 0\n",
      "f1: 1 f2: 1 f3: 0 f4: 1\n",
      "f1: 1 f2: 1 f3: 1 f4: 1\n",
      "f1: 1 f2: 1 f3: 1 f4: 1\n",
      "f1: 1 f2: 0 f3: 0 f4: 1\n",
      "f1: 1 f2: 0 f3: 0 f4: 1\n",
      "f1: 1 f2: 1 f3: 0 f4: 1\n",
      "f1: 1 f2: 1 f3: 1 f4: 1\n",
      "player_1 please enter a number between 1 and 4 as a number of row\n"
     ]
    },
    {
     "name": "stdin",
     "output_type": "stream",
     "text": [
      "please enter the number 3\n"
     ]
    },
    {
     "name": "stdout",
     "output_type": "stream",
     "text": [
      "Thank you!\n"
     ]
    },
    {
     "name": "stdin",
     "output_type": "stream",
     "text": [
      "Now, please enter another number in the same range as a number of column 3\n"
     ]
    },
    {
     "name": "stdout",
     "output_type": "stream",
     "text": [
      "your chosen cell has been selected before, please try another cell! please first enter the number of row\n"
     ]
    },
    {
     "name": "stdin",
     "output_type": "stream",
     "text": [
      "please enter the number 3\n"
     ]
    },
    {
     "name": "stdout",
     "output_type": "stream",
     "text": [
      "Thank you!\n"
     ]
    },
    {
     "name": "stdin",
     "output_type": "stream",
     "text": [
      "Now, please enter another number in the same range as a number of column 2\n"
     ]
    },
    {
     "name": "stdout",
     "output_type": "stream",
     "text": [
      "[['O', 0, 0, 'X'], ['O', 'O', 0, 'X'], [0, 'O', 'X', 0], [0, 0, 0, 'X']]\n",
      "f1: 0 f2: 0 f3: 0 f4: 0\n",
      "f1: 1 f2: 0 f3: 0 f4: 0\n",
      "f1: 1 f2: 1 f3: 0 f4: 0\n",
      "f1: 1 f2: 1 f3: 0 f4: 0\n",
      "f1: 0 f2: 1 f3: 0 f4: 0\n",
      "f1: 0 f2: 1 f3: 0 f4: 0\n",
      "f1: 1 f2: 1 f3: 0 f4: 1\n",
      "f1: 1 f2: 1 f3: 0 f4: 1\n",
      "f1: 1 f2: 1 f3: 0 f4: 0\n",
      "f1: 1 f2: 1 f3: 0 f4: 1\n",
      "f1: 1 f2: 1 f3: 1 f4: 1\n",
      "f1: 1 f2: 1 f3: 1 f4: 1\n",
      "f1: 1 f2: 0 f3: 0 f4: 1\n",
      "f1: 1 f2: 0 f3: 0 f4: 1\n",
      "f1: 1 f2: 1 f3: 0 f4: 1\n",
      "f1: 1 f2: 1 f3: 1 f4: 1\n",
      "player_2 please enter a number between 1 and 4 as a number of row\n"
     ]
    },
    {
     "name": "stdin",
     "output_type": "stream",
     "text": [
      "please enter the number 1\n"
     ]
    },
    {
     "name": "stdout",
     "output_type": "stream",
     "text": [
      "Thank you!\n"
     ]
    },
    {
     "name": "stdin",
     "output_type": "stream",
     "text": [
      "Now, please enter another number in the same range as a number of column 3\n"
     ]
    },
    {
     "name": "stdout",
     "output_type": "stream",
     "text": [
      "[['O', 0, 'X', 'X'], ['O', 'O', 0, 'X'], [0, 'O', 'X', 0], [0, 0, 0, 'X']]\n",
      "f1: 0 f2: 0 f3: 0 f4: 0\n",
      "f1: 1 f2: 0 f3: 0 f4: 0\n",
      "f1: 1 f2: 1 f3: 0 f4: 0\n",
      "f1: 1 f2: 1 f3: 0 f4: 0\n",
      "f1: 0 f2: 1 f3: 0 f4: 0\n",
      "f1: 0 f2: 1 f3: 0 f4: 0\n",
      "f1: 1 f2: 1 f3: 0 f4: 1\n",
      "f1: 1 f2: 1 f3: 0 f4: 1\n",
      "f1: 1 f2: 0 f3: 0 f4: 0\n",
      "f1: 1 f2: 1 f3: 0 f4: 1\n",
      "f1: 1 f2: 1 f3: 1 f4: 1\n",
      "f1: 1 f2: 1 f3: 1 f4: 1\n",
      "f1: 1 f2: 0 f3: 0 f4: 1\n",
      "f1: 1 f2: 0 f3: 0 f4: 1\n",
      "f1: 1 f2: 1 f3: 0 f4: 1\n",
      "f1: 1 f2: 1 f3: 1 f4: 1\n",
      "player_1 please enter a number between 1 and 4 as a number of row\n"
     ]
    },
    {
     "name": "stdin",
     "output_type": "stream",
     "text": [
      "please enter the number 3\n"
     ]
    },
    {
     "name": "stdout",
     "output_type": "stream",
     "text": [
      "Thank you!\n"
     ]
    },
    {
     "name": "stdin",
     "output_type": "stream",
     "text": [
      "Now, please enter another number in the same range as a number of column 1\n"
     ]
    },
    {
     "name": "stdout",
     "output_type": "stream",
     "text": [
      "[['O', 0, 'X', 'X'], ['O', 'O', 0, 'X'], ['O', 'O', 'X', 0], [0, 0, 0, 'X']]\n",
      "f1: 0 f2: 0 f3: 0 f4: 0\n",
      "f1: 1 f2: 0 f3: 0 f4: 0\n",
      "f1: 1 f2: 0 f3: 0 f4: 0\n",
      "f1: 1 f2: 1 f3: 0 f4: 0\n",
      "f1: 0 f2: 1 f3: 0 f4: 0\n",
      "f1: 0 f2: 1 f3: 0 f4: 0\n",
      "f1: 1 f2: 1 f3: 0 f4: 1\n",
      "f1: 1 f2: 1 f3: 0 f4: 1\n",
      "f1: 0 f2: 0 f3: 0 f4: 0\n",
      "f1: 0 f2: 1 f3: 0 f4: 1\n",
      "f1: 1 f2: 1 f3: 1 f4: 1\n",
      "f1: 1 f2: 1 f3: 1 f4: 1\n",
      "f1: 1 f2: 0 f3: 0 f4: 1\n",
      "f1: 1 f2: 0 f3: 0 f4: 1\n",
      "f1: 1 f2: 1 f3: 0 f4: 1\n",
      "f1: 1 f2: 1 f3: 1 f4: 1\n",
      "player_2 please enter a number between 1 and 4 as a number of row\n"
     ]
    },
    {
     "name": "stdin",
     "output_type": "stream",
     "text": [
      "please enter the number 2\n"
     ]
    },
    {
     "name": "stdout",
     "output_type": "stream",
     "text": [
      "Thank you!\n"
     ]
    },
    {
     "name": "stdin",
     "output_type": "stream",
     "text": [
      "Now, please enter another number in the same range as a number of column 3\n"
     ]
    },
    {
     "name": "stdout",
     "output_type": "stream",
     "text": [
      "[['O', 0, 'X', 'X'], ['O', 'O', 'X', 'X'], ['O', 'O', 'X', 0], [0, 0, 0, 'X']]\n",
      "f1: 0 f2: 0 f3: 0 f4: 0\n",
      "f1: 1 f2: 0 f3: 0 f4: 0\n",
      "f1: 1 f2: 0 f3: 0 f4: 0\n",
      "f1: 1 f2: 1 f3: 0 f4: 0\n",
      "f1: 0 f2: 1 f3: 0 f4: 0\n",
      "f1: 0 f2: 1 f3: 0 f4: 0\n",
      "f1: 1 f2: 1 f3: 0 f4: 0\n",
      "f1: 1 f2: 1 f3: 0 f4: 0\n",
      "f1: 0 f2: 0 f3: 0 f4: 0\n",
      "f1: 0 f2: 0 f3: 0 f4: 1\n",
      "f1: 1 f2: 0 f3: 1 f4: 1\n",
      "f1: 1 f2: 1 f3: 1 f4: 1\n",
      "f1: 1 f2: 0 f3: 0 f4: 1\n",
      "f1: 1 f2: 0 f3: 0 f4: 1\n",
      "f1: 1 f2: 1 f3: 0 f4: 1\n",
      "f1: 1 f2: 1 f3: 1 f4: 1\n",
      "player_1 please enter a number between 1 and 4 as a number of row\n"
     ]
    },
    {
     "name": "stdin",
     "output_type": "stream",
     "text": [
      "please enter the number 1\n"
     ]
    },
    {
     "name": "stdout",
     "output_type": "stream",
     "text": [
      "Thank you!\n"
     ]
    },
    {
     "name": "stdin",
     "output_type": "stream",
     "text": [
      "Now, please enter another number in the same range as a number of column 2\n"
     ]
    },
    {
     "name": "stdout",
     "output_type": "stream",
     "text": [
      "[['O', 'O', 'X', 'X'], ['O', 'O', 'X', 'X'], ['O', 'O', 'X', 0], [0, 0, 0, 'X']]\n",
      "f1: 0 f2: 0 f3: 0 f4: 0\n",
      "f1: 0 f2: 0 f3: 0 f4: 0\n",
      "f1: 1 f2: 0 f3: 0 f4: 0\n",
      "f1: 1 f2: 1 f3: 0 f4: 0\n",
      "f1: 0 f2: 0 f3: 0 f4: 0\n",
      "f1: 0 f2: 0 f3: 0 f4: 0\n",
      "f1: 1 f2: 0 f3: 0 f4: 0\n",
      "f1: 1 f2: 1 f3: 0 f4: 0\n",
      "f1: 0 f2: 0 f3: 0 f4: 0\n",
      "f1: 0 f2: 0 f3: 0 f4: 1\n",
      "f1: 1 f2: 0 f3: 1 f4: 1\n",
      "f1: 1 f2: 1 f3: 1 f4: 1\n",
      "f1: 1 f2: 0 f3: 0 f4: 1\n",
      "f1: 1 f2: 0 f3: 0 f4: 1\n",
      "f1: 1 f2: 1 f3: 0 f4: 1\n",
      "f1: 1 f2: 1 f3: 1 f4: 1\n",
      "player_2 please enter a number between 1 and 4 as a number of row\n"
     ]
    },
    {
     "name": "stdin",
     "output_type": "stream",
     "text": [
      "please enter the number 4\n"
     ]
    },
    {
     "name": "stdout",
     "output_type": "stream",
     "text": [
      "Thank you!\n"
     ]
    },
    {
     "name": "stdin",
     "output_type": "stream",
     "text": [
      "Now, please enter another number in the same range as a number of column 3\n"
     ]
    },
    {
     "name": "stdout",
     "output_type": "stream",
     "text": [
      "[['O', 'O', 'X', 'X'], ['O', 'O', 'X', 'X'], ['O', 'O', 'X', 0], [0, 0, 'X', 'X']]\n",
      "f1: 0 f2: 0 f3: 0 f4: 0\n",
      "f1: 0 f2: 0 f3: 0 f4: 0\n",
      "f1: 1 f2: 0 f3: 0 f4: 0\n",
      "f1: 1 f2: 1 f3: 0 f4: 0\n",
      "f1: 0 f2: 0 f3: 0 f4: 0\n",
      "f1: 0 f2: 0 f3: 0 f4: 0\n",
      "f1: 1 f2: 0 f3: 0 f4: 0\n",
      "f1: 1 f2: 1 f3: 0 f4: 0\n",
      "f1: 0 f2: 0 f3: 0 f4: 0\n",
      "f1: 0 f2: 0 f3: 0 f4: 1\n",
      "f1: 1 f2: 0 f3: 1 f4: 1\n",
      "f1: 1 f2: 0 f3: 1 f4: 1\n",
      "player 2 you WON the game!\n",
      "f1: 1 f2: 0 f3: 0 f4: 1\n",
      "f1: 1 f2: 0 f3: 0 f4: 1\n",
      "f1: 1 f2: 1 f3: 0 f4: 1\n",
      "f1: 1 f2: 1 f3: 1 f4: 1\n",
      "The game has been ended\n"
     ]
    }
   ],
   "source": [
    "# import numpy as np\n",
    "import random\n",
    "\n",
    "number_of_rows = eval(input('please enter the size of the game? It will be the number of rows!'))\n",
    "game_matrix = [[0 for i in range(number_of_rows)] for j in range(number_of_rows)]\n",
    "print(game_matrix)\n",
    "\n",
    "#A quick introduction with player one\n",
    "confirm_O = str(input('player_1 you are playing with letter \"O\"!, please confirm that by entering the letter \"O\"')).upper()\n",
    "while confirm_O!= 'O':\n",
    "    print('you are not entering letter \"O\"! your confirmation is needed before starting the game! :)')\n",
    "    confirm_O = str(input('player_1 you are playing with letter \"O\"!, please confirm that by entering the letter \"O\"')).upper()\n",
    "print('Perfect')\n",
    "\n",
    "# A quick introduction with player two\n",
    "confirm_X = str(input('player_2 you are playing with letter \"X\"!, please confirm that by entering the letter \"X\"')).upper()\n",
    "while confirm_X!= 'X':\n",
    "    print('you are not entering letter \"X\"! your confirmation is needed before starting the game! :)')\n",
    "    confirm_X = str(input('player_2 you are playing with letter \"X\"!, please confirm that by entering the letter \"X\"')).upper()\n",
    "print('Perfect')    \n",
    "\n",
    "player_1= 0\n",
    "player_2= 0\n",
    "count=0\n",
    "flag_continue_game=0\n",
    "\n",
    "while flag_continue_game==0:  \n",
    "    \n",
    "    if player_1== 1:\n",
    "        next_player ='player_2'\n",
    "        player_1= 0\n",
    "        player_2= 1\n",
    "    elif player_2== 1:\n",
    "        next_player ='player_1'\n",
    "        player_1= 1\n",
    "        player_2= 0\n",
    "    else:\n",
    "        next_player= random.choice(['player_1', 'player_2'])\n",
    "        if next_player== 'player_1':\n",
    "            player_1= 1\n",
    "        else:\n",
    "            player_2= 1\n",
    "\n",
    "\n",
    "    print(next_player,'please enter a number between 1 and', number_of_rows, 'as a number of row')\n",
    "    row_number= eval(input('please enter the number'))\n",
    "    while int(row_number)< 1 or int(row_number)> int(number_of_rows):\n",
    "        print('Your chosen number is out of range! you should enter a number between 1 and', number_of_rows)\n",
    "        row_number= input('please enter the number')\n",
    "    else:\n",
    "        print('Thank you!')\n",
    "        column_number= eval(input('Now, please enter another number in the same range as a number of column'))\n",
    "        while int(column_number)< 1 or int(column_number)> int(number_of_rows):\n",
    "            print('Your chosen number is out of range! you should enter a number between 1 and', number_of_rows)\n",
    "            column_number= input('please enter the number')\n",
    "    while game_matrix[int(row_number)-1][int(column_number)-1]!=0:\n",
    "        print('your chosen cell has been selected before, please try another cell! please first enter the number of row')\n",
    "        row_number= eval(input('please enter the number'))\n",
    "        while int(row_number)< 1 or int(row_number)> int(number_of_rows):\n",
    "            print('Your chosen number is out of range! you should enter a number between 1 and', number_of_rows)\n",
    "            row_number= input('please enter the number')\n",
    "        else:\n",
    "            print('Thank you!')\n",
    "            count+=1\n",
    "            column_number= eval(input('Now, please enter another number in the same range as a number of column'))\n",
    "            while int(column_number)< 1 or int(column_number)> int(number_of_rows):\n",
    "                print('Your chosen number is out of range! you should enter a number between 1 and', number_of_rows)\n",
    "                column_number= input('please enter the number')\n",
    "\n",
    "    count+=1\n",
    "    game_matrix[int(row_number)-1][int(column_number)-1]= 'O' if player_1== 1 else 'X'\n",
    "    print(game_matrix)\n",
    "    \n",
    "    # Rules to be a winner:\n",
    "    for i in range(number_of_rows):\n",
    "        flag1=0\n",
    "        flag2=0\n",
    "        flag3=0\n",
    "        flag4=0\n",
    "        if game_matrix[i][0]==0:\n",
    "            flag1=1\n",
    "        if game_matrix[0][i]==0:    \n",
    "            flag2=1\n",
    "        if game_matrix[0][0]==0:    \n",
    "            flag3=1\n",
    "        if game_matrix[0][number_of_rows-1]==0:    \n",
    "            flag4=1\n",
    "        \n",
    "        #print('f1:', flag1, 'f2:', flag2, 'f3:', flag3, 'f4:', flag4)\n",
    "        for j in range(number_of_rows):\n",
    "            if flag1==0 and game_matrix[i][j] != game_matrix[i][0]:\n",
    "                flag1=1\n",
    "            if flag2==0 and game_matrix[j][i] != game_matrix[0][i]:\n",
    "                flag2=1\n",
    "            if flag3==0 and i==j and game_matrix[0][0] != game_matrix[i][j]:\n",
    "                flag3=1\n",
    "            if flag4==0 and j==number_of_rows-1-i and game_matrix[0][number_of_rows-1] != game_matrix[i][j]:\n",
    "                flag4=1\n",
    "            #print('f1:', flag1, 'f2:', flag2, 'f3:', flag3, 'f4:', flag4)\n",
    "            \n",
    "        if (flag1==0 and game_matrix[i][0]=='O') or (flag2==0 and game_matrix[0][i]=='O'):\n",
    "            flag_continue_game=1   \n",
    "            print('player 1 you WON the game!')\n",
    "        if (flag1==0 and game_matrix[0][i]=='X') or (flag2==0 and game_matrix[0][i]=='X'):\n",
    "            flag_continue_game=1\n",
    "            print('player 2 you WON the game!')\n",
    "        if count==number_of_rows**2:\n",
    "            flag_continue_game=1\n",
    "            \n",
    "    if (flag3==0 and game_matrix[0][0]=='O') or (flag4==0 and game_matrix[0][number_of_rows-1]=='O'):\n",
    "        flag_continue_game=1\n",
    "        print('player 1 you WON the game!')\n",
    "    if (flag3==0 and game_matrix[0][0]=='X') or (flag4==0 and game_matrix[0][number_of_rows-1]=='X'):\n",
    "        flag_continue_game=1\n",
    "        print('player 2 you WON the game!')\n",
    "        \n",
    "    \n",
    "# Rules to end the game:\n",
    "\n",
    "if flag_continue_game==1:\n",
    "    print('The game has been ended')    \n"
   ]
  },
  {
   "cell_type": "code",
   "execution_count": null,
   "id": "91f05528-d70f-47fc-80e7-88d2d772f0ce",
   "metadata": {},
   "outputs": [],
   "source": []
  }
 ],
 "metadata": {
  "kernelspec": {
   "display_name": "Python 3 (ipykernel)",
   "language": "python",
   "name": "python3"
  },
  "language_info": {
   "codemirror_mode": {
    "name": "ipython",
    "version": 3
   },
   "file_extension": ".py",
   "mimetype": "text/x-python",
   "name": "python",
   "nbconvert_exporter": "python",
   "pygments_lexer": "ipython3",
   "version": "3.10.9"
  }
 },
 "nbformat": 4,
 "nbformat_minor": 5
}

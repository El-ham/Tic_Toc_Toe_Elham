{
 "cells": [
  {
   "cell_type": "code",
   "execution_count": 139,
   "id": "2e9dbce1-5fa2-4f36-8544-2e31ff0ec65f",
   "metadata": {},
   "outputs": [],
   "source": [
    "import numpy as np\n",
    "import random"
   ]
  },
  {
   "cell_type": "code",
   "execution_count": 140,
   "id": "5ce4e732-2288-4702-8cdf-a9c85378dcd3",
   "metadata": {},
   "outputs": [
    {
     "name": "stdin",
     "output_type": "stream",
     "text": [
      "please enter the size of the game? It will be the number of rows! 5\n"
     ]
    }
   ],
   "source": [
    "number_of_rows = eval(input('please enter the size of the game? It will be the number of rows!'))"
   ]
  },
  {
   "cell_type": "code",
   "execution_count": 141,
   "id": "419e1a40-c21d-40eb-b673-636c9d33415d",
   "metadata": {},
   "outputs": [],
   "source": [
    "game_matrix = [[0 for i in range(number_of_rows)] for j in range(number_of_rows)]"
   ]
  },
  {
   "cell_type": "code",
   "execution_count": 142,
   "id": "cce525d1-de96-46c2-b36a-a5aad274ad79",
   "metadata": {},
   "outputs": [
    {
     "name": "stdout",
     "output_type": "stream",
     "text": [
      "[[0, 0, 0, 0, 0], [0, 0, 0, 0, 0], [0, 0, 0, 0, 0], [0, 0, 0, 0, 0], [0, 0, 0, 0, 0]]\n"
     ]
    }
   ],
   "source": [
    "print(game_matrix)"
   ]
  },
  {
   "cell_type": "code",
   "execution_count": 143,
   "id": "b0379d9a-a448-4c08-8b98-11e037334936",
   "metadata": {},
   "outputs": [
    {
     "name": "stdin",
     "output_type": "stream",
     "text": [
      "player_1 you are playing with letter \"O\"!, please confirm that by entering the letter \"O\" o\n"
     ]
    },
    {
     "name": "stdout",
     "output_type": "stream",
     "text": [
      "Perfect\n"
     ]
    }
   ],
   "source": [
    "# A quick introduction with player one\n",
    "confirm_O = str(input('player_1 you are playing with letter \"O\"!, please confirm that by entering the letter \"O\"')).upper()\n",
    "while confirm_O!= 'O':\n",
    "    print('you are not entering letter \"O\"! your confirmation is needed before starting the game! :)')\n",
    "    confirm_O = str(input('player_1 you are playing with letter \"O\"!, please confirm that by entering the letter \"O\"')).upper()\n",
    "print('Perfect')\n"
   ]
  },
  {
   "cell_type": "code",
   "execution_count": 177,
   "id": "07772047-5cff-4f52-9611-570cd9ef6971",
   "metadata": {},
   "outputs": [
    {
     "name": "stdin",
     "output_type": "stream",
     "text": [
      "player_2 you are playing with letter \"X\"!, please confirm that by entering the letter \"X\" f\n"
     ]
    },
    {
     "name": "stdout",
     "output_type": "stream",
     "text": [
      "you are not entering letter \"X\"! your confirmation is needed before starting the game! :)\n"
     ]
    },
    {
     "name": "stdin",
     "output_type": "stream",
     "text": [
      "player_2 you are playing with letter \"X\"!, please confirm that by entering the letter \"X\" x\n"
     ]
    },
    {
     "name": "stdout",
     "output_type": "stream",
     "text": [
      "Perfect\n"
     ]
    }
   ],
   "source": [
    "# A quick introduction with player two\n",
    "confirm_X = str(input('player_2 you are playing with letter \"X\"!, please confirm that by entering the letter \"X\"')).upper()\n",
    "while confirm_X!= 'X':\n",
    "    print('you are not entering letter \"X\"! your confirmation is needed before starting the game! :)')\n",
    "    confirm_X = str(input('player_2 you are playing with letter \"X\"!, please confirm that by entering the letter \"X\"')).upper()\n",
    "print('Perfect')    "
   ]
  },
  {
   "cell_type": "code",
   "execution_count": 145,
   "id": "32f131f5-f261-44c0-97c0-c2d9f2428ca8",
   "metadata": {},
   "outputs": [],
   "source": [
    "player_1= 0\n",
    "player_2= 0"
   ]
  },
  {
   "cell_type": "code",
   "execution_count": 155,
   "id": "fd92f9e5-9c97-44e9-b569-3fdf89ffa57b",
   "metadata": {},
   "outputs": [],
   "source": [
    "if player_1== 1:\n",
    "    next_player ='player_2'\n",
    "    player_1= 0\n",
    "    player_2= 1\n",
    "elif player_2== 1:\n",
    "    next_player ='player_1'\n",
    "    player_1= 1\n",
    "    player_2= 0\n",
    "else:\n",
    "    next_player= random.choice(['player_1', 'player_2'])\n",
    "    if next_player== 'player_1':\n",
    "        player_1= 1\n",
    "    else:\n",
    "        player_2= 1"
   ]
  },
  {
   "cell_type": "code",
   "execution_count": 178,
   "id": "845a7f7d-180c-4772-9f7a-b288cf776587",
   "metadata": {},
   "outputs": [
    {
     "name": "stdout",
     "output_type": "stream",
     "text": [
      "player_2 please enter a number between 1 and 5 as a number of row\n"
     ]
    },
    {
     "name": "stdin",
     "output_type": "stream",
     "text": [
      "please enter the number 8\n"
     ]
    },
    {
     "name": "stdout",
     "output_type": "stream",
     "text": [
      "Your chosen number is out of range! you should enter a number between 1 and 5\n"
     ]
    },
    {
     "name": "stdin",
     "output_type": "stream",
     "text": [
      "please enter the number 4\n"
     ]
    },
    {
     "name": "stdout",
     "output_type": "stream",
     "text": [
      "Thank you!\n"
     ]
    },
    {
     "name": "stdin",
     "output_type": "stream",
     "text": [
      "Now, please enter another number in the same range as a number of column 8\n"
     ]
    },
    {
     "name": "stdout",
     "output_type": "stream",
     "text": [
      "Your chosen number is out of range! you should enter a number between 1 and 5\n"
     ]
    },
    {
     "name": "stdin",
     "output_type": "stream",
     "text": [
      "please enter the number 6\n"
     ]
    },
    {
     "name": "stdout",
     "output_type": "stream",
     "text": [
      "Your chosen number is out of range! you should enter a number between 1 and 5\n"
     ]
    },
    {
     "name": "stdin",
     "output_type": "stream",
     "text": [
      "please enter the number 2\n"
     ]
    }
   ],
   "source": [
    "count=0\n",
    "\n",
    "\n",
    "print(next_player,'please enter a number between 1 and', number_of_rows, 'as a number of row')\n",
    "row_number= eval(input('please enter the number'))\n",
    "while int(row_number)< 1 or int(row_number)> int(number_of_rows):\n",
    "    print('Your chosen number is out of range! you should enter a number between 1 and', number_of_rows)\n",
    "    row_number= input('please enter the number')\n",
    "else:\n",
    "    print('Thank you!')\n",
    "    column_number= eval(input('Now, please enter another number in the same range as a number of column'))\n",
    "    while int(column_number)< 1 or int(column_number)> int(number_of_rows):\n",
    "        print('Your chosen number is out of range! you should enter a number between 1 and', number_of_rows)\n",
    "        column_number= input('please enter the number')\n",
    "while game_matrix[int(row_number)-1][int(column_number)-1]!=0:\n",
    "    print('your chosen cell has been selected before, please try another cell! please first enter the number of row')\n",
    "    row_number= eval(input('please enter the number'))\n",
    "    while int(row_number)< 1 or int(row_number)> int(number_of_rows):\n",
    "        print('Your chosen number is out of range! you should enter a number between 1 and', number_of_rows)\n",
    "        row_number= input('please enter the number')\n",
    "    else:\n",
    "        print('Thank you!')\n",
    "        column_number= eval(input('Now, please enter another number in the same range as a number of column'))\n",
    "        while int(column_number)< 1 or int(column_number)> int(number_of_rows):\n",
    "            print('Your chosen number is out of range! you should enter a number between 1 and', number_of_rows)\n",
    "            column_number= input('please enter the number')\n",
    "count+=1"
   ]
  },
  {
   "cell_type": "code",
   "execution_count": 172,
   "id": "00e87c7c-fead-4e8c-8f4c-0d1775ac0b5d",
   "metadata": {},
   "outputs": [],
   "source": [
    "game_matrix[int(row_number)-1][int(column_number)-1]= 'O' if player_1== 1 else 'X'"
   ]
  },
  {
   "cell_type": "code",
   "execution_count": 173,
   "id": "9664614e-cd47-4aea-800e-724e38cd8d2e",
   "metadata": {},
   "outputs": [
    {
     "data": {
      "text/plain": [
       "[['X', 0, 0, 'X', 0],\n",
       " [0, 'X', 'O', 0, 0],\n",
       " [0, 'X', 'X', 0, 0],\n",
       " [0, 0, 0, 'X', 0],\n",
       " [0, 0, 0, 0, 'X']]"
      ]
     },
     "execution_count": 173,
     "metadata": {},
     "output_type": "execute_result"
    }
   ],
   "source": [
    "game_matrix"
   ]
  },
  {
   "cell_type": "code",
   "execution_count": 175,
   "id": "586a2cd0-391a-41e7-9637-bfc1b16f73ec",
   "metadata": {},
   "outputs": [
    {
     "name": "stdout",
     "output_type": "stream",
     "text": [
      "player 2 you WON the game!\n"
     ]
    }
   ],
   "source": [
    "# Rules to be a winner:\n",
    "for i in range(number_of_rows):\n",
    "    flag1=0\n",
    "    flag2=0\n",
    "    flag3=0\n",
    "    flag4=0\n",
    "    if game_matrix[i][0]==0:\n",
    "        flag1=1\n",
    "    if game_matrix[0][i]==0:    \n",
    "        flag2=1\n",
    "    if game_matrix[0][0]==0:    \n",
    "        flag3=1\n",
    "    if game_matrix[0][number_of_rows-1]==0:    \n",
    "        flag4=1\n",
    "        \n",
    "    for j in range(number_of_rows):\n",
    "        if flag1==0 and game_matrix[i][j] != game_matrix[i][0]:\n",
    "            flag1=1\n",
    "        if flag2==0 and game_matrix[j][i] != game_matrix[0][i]:\n",
    "            flag2=1\n",
    "        if flag1==0 and game_matrix[i][j] != game_matrix[i][0]:\n",
    "            flag1=1\n",
    "        if flag3==0 and i==j and game_matrix[0][0] != game_matrix[i][j]:\n",
    "            flag3=1\n",
    "        if flag4==0 and j==number_of_rows-1-i and game_matrix[0][number_of_rows-1] != game_matrix[i][j]:\n",
    "            flag4=1\n",
    "            \n",
    "if (flag1==0 and game_matrix[i][0]=='O') or (flag2==0 and game_matrix[i][0]=='O'):\n",
    "    flag_continue_game=1   \n",
    "    print('player 1 you WON the game!')\n",
    "if (flag1==0 and game_matrix[i][0]=='X') or (flag2==0 and game_matrix[i][0]=='X'):\n",
    "    flag_continue_game=1\n",
    "    print('player 2 you WON the game!')\n",
    "if (flag3==0 and game_matrix[0][0]=='O') or (flag4==0 and game_matrix[0][number_of_rows-1]=='O'):\n",
    "    flag_continue_game=1\n",
    "    print('player 1 you WON the game!')\n",
    "if (flag3==0 and game_matrix[0][0]=='X') or (flag4==0 and game_matrix[0][number_of_rows-1]=='X'):\n",
    "    flag_continue_game=1\n",
    "    print('player 2 you WON the game!')\n",
    "if count==number_of_rows**2:\n",
    "    flag_continue_game=1"
   ]
  },
  {
   "cell_type": "code",
   "execution_count": null,
   "id": "475de70b-4bd2-4680-8fcc-9f68d4655195",
   "metadata": {},
   "outputs": [],
   "source": [
    "# Rules to end the game:\n",
    "\n",
    "if flag_continue_game==1:\n",
    "    print('The game has been ended')"
   ]
  }
 ],
 "metadata": {
  "kernelspec": {
   "display_name": "Python 3 (ipykernel)",
   "language": "python",
   "name": "python3"
  },
  "language_info": {
   "codemirror_mode": {
    "name": "ipython",
    "version": 3
   },
   "file_extension": ".py",
   "mimetype": "text/x-python",
   "name": "python",
   "nbconvert_exporter": "python",
   "pygments_lexer": "ipython3",
   "version": "3.10.9"
  }
 },
 "nbformat": 4,
 "nbformat_minor": 5
}

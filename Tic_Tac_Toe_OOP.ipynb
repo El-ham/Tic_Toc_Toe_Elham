{
 "cells": [
  {
   "cell_type": "code",
   "execution_count": 58,
   "id": "bdb8e5d5-c0b3-4df6-95fc-267d20efe5d3",
   "metadata": {},
   "outputs": [],
   "source": [
    "import random\n",
    "class Tic_Tac_Toe:\n",
    "    def __init__(self, num_of_rows=3):\n",
    "        self.number_of_rows = num_of_rows\n",
    "        self.game_matrix = [[0 for i in range(self.number_of_rows)] for j in range(self.number_of_rows)]\n",
    "        self.flag_continue_game = True\n",
    "        self.next_player= 'khar'\n",
    "        \n",
    "        self.number_of_turns = 0\n",
    "        \n",
    "    def play_game(self):\n",
    "        number_of_rows = eval(input('please enter the size of the game? It will be the number of rows!'))\n",
    "        self.build_matrix(number_of_rows)\n",
    "        self.visualize_game()\n",
    "        self.introduce_players()\n",
    "        #print('ckecking winner', self.check_winner())\n",
    "        while self.check_winner()==0:\n",
    "            self.select_turn()\n",
    "            row_number, column_number = self.choose_cell()\n",
    "            self.update_matrix(row_number, column_number)\n",
    "            #print('ckecking winner', self.check_winner())\n",
    "            self.end_game()\n",
    "        \n",
    "    def build_matrix(self, num_of_rows=3):\n",
    "        self.number_of_rows= num_of_rows\n",
    "        self.game_matrix = [[0 for i in range(self.number_of_rows)] for j in range(self.number_of_rows)]\n",
    "        \n",
    "    def visualize_game(self):\n",
    "        print(self.game_matrix)\n",
    "        \n",
    "    def introduce_players(self):\n",
    "        confirm_O = str(input('player_1 you are playing with letter \"O\"!, please confirm that by entering the letter \"O\"')).upper()\n",
    "        while confirm_O!= 'O':\n",
    "            print('you are not entering letter \"O\"! your confirmation is needed before starting the game! :)')\n",
    "            confirm_O = str(input('player_1 you are playing with letter \"O\"!, please confirm that by entering the letter \"O\"')).upper()\n",
    "        print('Perfect')\n",
    "\n",
    "        # A quick introduction with player two\n",
    "        confirm_X = str(input('player_2 you are playing with letter \"X\"!, please confirm that by entering the letter \"X\"')).upper()\n",
    "        while confirm_X!= 'X':\n",
    "            print('you are not entering letter \"X\"! your confirmation is needed before starting the game! :)')\n",
    "            confirm_X = str(input('player_2 you are playing with letter \"X\"!, please confirm that by entering the letter \"X\"')).upper()\n",
    "        print('Perfect')\n",
    "        \n",
    "    def select_turn(self):\n",
    "        \n",
    "        \n",
    "        if self.next_player== 'player_1':\n",
    "            self.next_player ='player_2'\n",
    "            \n",
    "                \n",
    "        elif self.next_player== 'player_2':\n",
    "            self.next_player ='player_1'\n",
    "            \n",
    "                \n",
    "        else:\n",
    "            self.next_player= random.choice(['player_1', 'player_2'])\n",
    "                   \n",
    "        \n",
    "        \n",
    "    def choose_cell(self):\n",
    "        print(self.next_player,'please enter a number between 1 and', self.number_of_rows, 'as a number of row')\n",
    "        row_number= eval(input('please enter the number'))\n",
    "        while int(row_number)< 1 or int(row_number)> int(self.number_of_rows):\n",
    "            print('Your chosen number is out of range! you should enter a number between 1 and', self.number_of_rows)\n",
    "            row_number= input('please enter the number')\n",
    "        else:\n",
    "            print('Thank you!')\n",
    "            column_number= eval(input('Now, please enter another number in the same range as a number of column'))\n",
    "            while int(column_number)< 1 or int(column_number)> int(self.number_of_rows):\n",
    "                print('Your chosen number is out of range! you should enter a number between 1 and', self.number_of_rows)\n",
    "                column_number= input('please enter the number')\n",
    "        while self.game_matrix[int(row_number)-1][int(column_number)-1]!=0:\n",
    "            print('your chosen cell has been selected before, please try another cell! please first enter the number of row')\n",
    "            row_number= eval(input('please enter the number'))\n",
    "            while int(row_number)< 1 or int(row_number)> int(self.number_of_rows):\n",
    "                print('Your chosen number is out of range! you should enter a number between 1 and', self.number_of_rows)\n",
    "                row_number= input('please enter the number')\n",
    "            else:\n",
    "                print('Thank you!')\n",
    "                \n",
    "                column_number= eval(input('Now, please enter another number in the same range as a number of column'))\n",
    "                while int(column_number)< 1 or int(column_number)> int(self.number_of_rows):\n",
    "                    print('Your chosen number is out of range! you should enter a number between 1 and', self.number_of_rows)\n",
    "                    column_number= input('please enter the number')\n",
    "        self.number_of_turns+=1\n",
    "        return row_number, column_number\n",
    "        \n",
    "        \n",
    "    def update_matrix(self, row_number, column_number):\n",
    "        \n",
    "        self.game_matrix[int(row_number)-1][int(column_number)-1]= 'O' if self.next_player =='player_1' else 'X'\n",
    "        print(self.game_matrix)\n",
    "        \n",
    "    def check_winner(self):\n",
    "        for i in range(self.number_of_rows):\n",
    "            flag1=0\n",
    "            flag2=0\n",
    "            flag3=0\n",
    "            flag4=0\n",
    "            if self.game_matrix[i][0]==0:\n",
    "                flag1=1\n",
    "            if self.game_matrix[0][i]==0:    \n",
    "                flag2=1\n",
    "            if self.game_matrix[0][0]==0:    \n",
    "                flag3=1\n",
    "            if self.game_matrix[0][self.number_of_rows-1]==0:    \n",
    "                flag4=1\n",
    "\n",
    "            #print('f1:', flag1, 'f2:', flag2, 'f3:', flag3, 'f4:', flag4)\n",
    "            for j in range(self.number_of_rows):\n",
    "                if flag1==0 and self.game_matrix[i][j] != self.game_matrix[i][0]:\n",
    "                    flag1=1\n",
    "                if flag2==0 and self.game_matrix[j][i] != self.game_matrix[0][i]:\n",
    "                    flag2=1\n",
    "                if flag3==0 and i==j and self.game_matrix[0][0] != self.game_matrix[i][j]:\n",
    "                    flag3=1\n",
    "                if flag4==0 and j==self.number_of_rows-1-i and self.game_matrix[0][self.number_of_rows-1] != self.game_matrix[i][j]:\n",
    "                    flag4=1\n",
    "                #print('f1:', flag1, 'f2:', flag2, 'f3:', flag3, 'f4:', flag4)\n",
    "\n",
    "            if (flag1==0 and self.game_matrix[i][0]=='O') or (flag2==0 and self.game_matrix[0][i]=='O'):\n",
    "                return 1\n",
    "            if (flag1==0 and self.game_matrix[0][i]=='X') or (flag2==0 and self.game_matrix[0][i]=='X'):\n",
    "                return 2\n",
    "            if self.number_of_turns==self.number_of_rows**2:\n",
    "                return -1\n",
    "\n",
    "        if (flag3==0 and self.game_matrix[0][0]=='O') or (flag4==0 and self.game_matrix[0][self.number_of_rows-1]=='O'):\n",
    "            return 1\n",
    "        if (flag3==0 and self.game_matrix[0][0]=='X') or (flag4==0 and self.game_matrix[0][self.number_of_rows-1]=='X'):\n",
    "            return 2\n",
    "        return 0    \n",
    "    def end_game(self):\n",
    "        res= self.check_winner()\n",
    "        if res==1:\n",
    "            print('player 1 you WON the game!')\n",
    "        elif res==2:   \n",
    "            print('player 2 you WON the game!')\n",
    "        elif res==-1:\n",
    "            print('The game has been ended')\n",
    "            \n",
    "            \n",
    "            \n"
   ]
  },
  {
   "cell_type": "code",
   "execution_count": 59,
   "id": "72690ccf-6544-4d81-8644-c52c7a681e13",
   "metadata": {},
   "outputs": [],
   "source": [
    "game=Tic_Tac_Toe()\n"
   ]
  },
  {
   "cell_type": "code",
   "execution_count": 60,
   "id": "dcd45886-4eac-4cad-bb94-23f0a2ec2a05",
   "metadata": {},
   "outputs": [
    {
     "name": "stdin",
     "output_type": "stream",
     "text": [
      "please enter the size of the game? It will be the number of rows! 3\n"
     ]
    },
    {
     "name": "stdout",
     "output_type": "stream",
     "text": [
      "[[0, 0, 0], [0, 0, 0], [0, 0, 0]]\n"
     ]
    },
    {
     "name": "stdin",
     "output_type": "stream",
     "text": [
      "player_1 you are playing with letter \"O\"!, please confirm that by entering the letter \"O\" o\n"
     ]
    },
    {
     "name": "stdout",
     "output_type": "stream",
     "text": [
      "Perfect\n"
     ]
    },
    {
     "name": "stdin",
     "output_type": "stream",
     "text": [
      "player_2 you are playing with letter \"X\"!, please confirm that by entering the letter \"X\" x\n"
     ]
    },
    {
     "name": "stdout",
     "output_type": "stream",
     "text": [
      "Perfect\n",
      "ckecking winner 0\n",
      "player_1 please enter a number between 1 and 3 as a number of row\n"
     ]
    },
    {
     "name": "stdin",
     "output_type": "stream",
     "text": [
      "please enter the number 1\n"
     ]
    },
    {
     "name": "stdout",
     "output_type": "stream",
     "text": [
      "Thank you!\n"
     ]
    },
    {
     "name": "stdin",
     "output_type": "stream",
     "text": [
      "Now, please enter another number in the same range as a number of column 2\n"
     ]
    },
    {
     "name": "stdout",
     "output_type": "stream",
     "text": [
      "[[0, 'O', 0], [0, 0, 0], [0, 0, 0]]\n",
      "ckecking winner 0\n",
      "player_2 please enter a number between 1 and 3 as a number of row\n"
     ]
    },
    {
     "name": "stdin",
     "output_type": "stream",
     "text": [
      "please enter the number 3\n"
     ]
    },
    {
     "name": "stdout",
     "output_type": "stream",
     "text": [
      "Thank you!\n"
     ]
    },
    {
     "name": "stdin",
     "output_type": "stream",
     "text": [
      "Now, please enter another number in the same range as a number of column 1\n"
     ]
    },
    {
     "name": "stdout",
     "output_type": "stream",
     "text": [
      "[[0, 'O', 0], [0, 0, 0], ['X', 0, 0]]\n",
      "ckecking winner 0\n",
      "player_1 please enter a number between 1 and 3 as a number of row\n"
     ]
    },
    {
     "name": "stdin",
     "output_type": "stream",
     "text": [
      "please enter the number 2\n"
     ]
    },
    {
     "name": "stdout",
     "output_type": "stream",
     "text": [
      "Thank you!\n"
     ]
    },
    {
     "name": "stdin",
     "output_type": "stream",
     "text": [
      "Now, please enter another number in the same range as a number of column 3\n"
     ]
    },
    {
     "name": "stdout",
     "output_type": "stream",
     "text": [
      "[[0, 'O', 0], [0, 0, 'O'], ['X', 0, 0]]\n",
      "ckecking winner 0\n",
      "player_2 please enter a number between 1 and 3 as a number of row\n"
     ]
    },
    {
     "name": "stdin",
     "output_type": "stream",
     "text": [
      "please enter the number 3\n"
     ]
    },
    {
     "name": "stdout",
     "output_type": "stream",
     "text": [
      "Thank you!\n"
     ]
    },
    {
     "name": "stdin",
     "output_type": "stream",
     "text": [
      "Now, please enter another number in the same range as a number of column 2\n"
     ]
    },
    {
     "name": "stdout",
     "output_type": "stream",
     "text": [
      "[[0, 'O', 0], [0, 0, 'O'], ['X', 'X', 0]]\n",
      "ckecking winner 0\n",
      "player_1 please enter a number between 1 and 3 as a number of row\n"
     ]
    },
    {
     "name": "stdin",
     "output_type": "stream",
     "text": [
      "please enter the number 1\n"
     ]
    },
    {
     "name": "stdout",
     "output_type": "stream",
     "text": [
      "Thank you!\n"
     ]
    },
    {
     "name": "stdin",
     "output_type": "stream",
     "text": [
      "Now, please enter another number in the same range as a number of column 3\n"
     ]
    },
    {
     "name": "stdout",
     "output_type": "stream",
     "text": [
      "[[0, 'O', 'O'], [0, 0, 'O'], ['X', 'X', 0]]\n",
      "ckecking winner 0\n",
      "player_2 please enter a number between 1 and 3 as a number of row\n"
     ]
    },
    {
     "name": "stdin",
     "output_type": "stream",
     "text": [
      "please enter the number 3\n"
     ]
    },
    {
     "name": "stdout",
     "output_type": "stream",
     "text": [
      "Thank you!\n"
     ]
    },
    {
     "name": "stdin",
     "output_type": "stream",
     "text": [
      "Now, please enter another number in the same range as a number of column 1\n"
     ]
    },
    {
     "name": "stdout",
     "output_type": "stream",
     "text": [
      "your chosen cell has been selected before, please try another cell! please first enter the number of row\n"
     ]
    },
    {
     "name": "stdin",
     "output_type": "stream",
     "text": [
      "please enter the number 1\n"
     ]
    },
    {
     "name": "stdout",
     "output_type": "stream",
     "text": [
      "Thank you!\n"
     ]
    },
    {
     "name": "stdin",
     "output_type": "stream",
     "text": [
      "Now, please enter another number in the same range as a number of column 1\n"
     ]
    },
    {
     "name": "stdout",
     "output_type": "stream",
     "text": [
      "[['X', 'O', 'O'], [0, 0, 'O'], ['X', 'X', 0]]\n",
      "ckecking winner 0\n",
      "player_1 please enter a number between 1 and 3 as a number of row\n"
     ]
    },
    {
     "name": "stdin",
     "output_type": "stream",
     "text": [
      "please enter the number 2\n"
     ]
    },
    {
     "name": "stdout",
     "output_type": "stream",
     "text": [
      "Thank you!\n"
     ]
    },
    {
     "name": "stdin",
     "output_type": "stream",
     "text": [
      "Now, please enter another number in the same range as a number of column 1\n"
     ]
    },
    {
     "name": "stdout",
     "output_type": "stream",
     "text": [
      "[['X', 'O', 'O'], ['O', 0, 'O'], ['X', 'X', 0]]\n",
      "ckecking winner 0\n",
      "player_2 please enter a number between 1 and 3 as a number of row\n"
     ]
    },
    {
     "name": "stdin",
     "output_type": "stream",
     "text": [
      "please enter the number 2\n"
     ]
    },
    {
     "name": "stdout",
     "output_type": "stream",
     "text": [
      "Thank you!\n"
     ]
    },
    {
     "name": "stdin",
     "output_type": "stream",
     "text": [
      "Now, please enter another number in the same range as a number of column 2\n"
     ]
    },
    {
     "name": "stdout",
     "output_type": "stream",
     "text": [
      "[['X', 'O', 'O'], ['O', 'X', 'O'], ['X', 'X', 0]]\n",
      "ckecking winner 0\n",
      "player_1 please enter a number between 1 and 3 as a number of row\n"
     ]
    },
    {
     "name": "stdin",
     "output_type": "stream",
     "text": [
      "please enter the number 3\n"
     ]
    },
    {
     "name": "stdout",
     "output_type": "stream",
     "text": [
      "Thank you!\n"
     ]
    },
    {
     "name": "stdin",
     "output_type": "stream",
     "text": [
      "Now, please enter another number in the same range as a number of column 3\n"
     ]
    },
    {
     "name": "stdout",
     "output_type": "stream",
     "text": [
      "[['X', 'O', 'O'], ['O', 'X', 'O'], ['X', 'X', 'O']]\n",
      "ckecking winner -1\n",
      "The game has been ended\n"
     ]
    }
   ],
   "source": [
    "game.play_game()"
   ]
  },
  {
   "cell_type": "code",
   "execution_count": null,
   "id": "5b1fd7d3-177c-4d3d-ad3d-04fb67a9a6dc",
   "metadata": {},
   "outputs": [],
   "source": []
  }
 ],
 "metadata": {
  "kernelspec": {
   "display_name": "Python 3 (ipykernel)",
   "language": "python",
   "name": "python3"
  },
  "language_info": {
   "codemirror_mode": {
    "name": "ipython",
    "version": 3
   },
   "file_extension": ".py",
   "mimetype": "text/x-python",
   "name": "python",
   "nbconvert_exporter": "python",
   "pygments_lexer": "ipython3",
   "version": "3.10.9"
  }
 },
 "nbformat": 4,
 "nbformat_minor": 5
}
